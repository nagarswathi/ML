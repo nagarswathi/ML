{
 "cells": [
  {
   "cell_type": "code",
   "execution_count": 2,
   "id": "6b255e74",
   "metadata": {},
   "outputs": [],
   "source": [
    "import pandas as pd\n",
    "import numpy as np"
   ]
  },
  {
   "cell_type": "markdown",
   "id": "53f032d9",
   "metadata": {},
   "source": [
    "A) Shape of the dataset is (10000, 12) [Please note that if you do not obtain this shape, it may indicate that the data was not uploaded correctly into the Colab environment.]\n",
    "B) For simplicity please consider all the unknown values (\"?\") as null values for this assignment.\n",
    "C) Consider each question as individual question unless instructed otherwise and use the given csv data to compute all the solutions."
   ]
  },
  {
   "cell_type": "code",
   "execution_count": 3,
   "id": "ce31a5bd",
   "metadata": {},
   "outputs": [],
   "source": [
    "df = pd.read_csv(\"property.csv\")"
   ]
  },
  {
   "cell_type": "code",
   "execution_count": 25,
   "id": "1802b57c",
   "metadata": {},
   "outputs": [
    {
     "data": {
      "text/html": [
       "<div>\n",
       "<style scoped>\n",
       "    .dataframe tbody tr th:only-of-type {\n",
       "        vertical-align: middle;\n",
       "    }\n",
       "\n",
       "    .dataframe tbody tr th {\n",
       "        vertical-align: top;\n",
       "    }\n",
       "\n",
       "    .dataframe thead th {\n",
       "        text-align: right;\n",
       "    }\n",
       "</style>\n",
       "<table border=\"1\" class=\"dataframe\">\n",
       "  <thead>\n",
       "    <tr style=\"text-align: right;\">\n",
       "      <th></th>\n",
       "      <th>Date</th>\n",
       "      <th>Year</th>\n",
       "      <th>Locality</th>\n",
       "      <th>Estimated Value</th>\n",
       "      <th>Sale Price</th>\n",
       "      <th>Property</th>\n",
       "      <th>Residential</th>\n",
       "      <th>num_rooms</th>\n",
       "      <th>num_bathrooms</th>\n",
       "      <th>carpet_area</th>\n",
       "      <th>property_tax_rate</th>\n",
       "      <th>Face</th>\n",
       "    </tr>\n",
       "  </thead>\n",
       "  <tbody>\n",
       "    <tr>\n",
       "      <th>0</th>\n",
       "      <td>2009-01-02</td>\n",
       "      <td>2009</td>\n",
       "      <td>Waterbury</td>\n",
       "      <td>111440.0</td>\n",
       "      <td>185000.0</td>\n",
       "      <td>Single Family</td>\n",
       "      <td>Detached House</td>\n",
       "      <td>3</td>\n",
       "      <td>3</td>\n",
       "      <td>996.0</td>\n",
       "      <td>1.025953</td>\n",
       "      <td>South</td>\n",
       "    </tr>\n",
       "    <tr>\n",
       "      <th>1</th>\n",
       "      <td>2009-01-02</td>\n",
       "      <td>2009</td>\n",
       "      <td>Bridgeport</td>\n",
       "      <td>124670.0</td>\n",
       "      <td>150000.0</td>\n",
       "      <td>Two Family</td>\n",
       "      <td>Duplex</td>\n",
       "      <td>4</td>\n",
       "      <td>3</td>\n",
       "      <td>1241.0</td>\n",
       "      <td>1.025953</td>\n",
       "      <td>South</td>\n",
       "    </tr>\n",
       "    <tr>\n",
       "      <th>2</th>\n",
       "      <td>2009-01-02</td>\n",
       "      <td>2009</td>\n",
       "      <td>Waterbury</td>\n",
       "      <td>55720.0</td>\n",
       "      <td>140000.0</td>\n",
       "      <td>Single Family</td>\n",
       "      <td>Detached House</td>\n",
       "      <td>3</td>\n",
       "      <td>2</td>\n",
       "      <td>910.0</td>\n",
       "      <td>1.025953</td>\n",
       "      <td>South</td>\n",
       "    </tr>\n",
       "    <tr>\n",
       "      <th>3</th>\n",
       "      <td>2009-01-02</td>\n",
       "      <td>2009</td>\n",
       "      <td>Bridgeport</td>\n",
       "      <td>4775276.0</td>\n",
       "      <td>272900.0</td>\n",
       "      <td>Single Family</td>\n",
       "      <td>Detached House</td>\n",
       "      <td>3</td>\n",
       "      <td>1</td>\n",
       "      <td>971.0</td>\n",
       "      <td>1.025953</td>\n",
       "      <td>East</td>\n",
       "    </tr>\n",
       "    <tr>\n",
       "      <th>4</th>\n",
       "      <td>2009-01-02</td>\n",
       "      <td>2009</td>\n",
       "      <td>Bridgeport</td>\n",
       "      <td>112351.0</td>\n",
       "      <td>210000.0</td>\n",
       "      <td>?</td>\n",
       "      <td>Detached House</td>\n",
       "      <td>3</td>\n",
       "      <td>2</td>\n",
       "      <td>1092.0</td>\n",
       "      <td>1.025953</td>\n",
       "      <td>East</td>\n",
       "    </tr>\n",
       "  </tbody>\n",
       "</table>\n",
       "</div>"
      ],
      "text/plain": [
       "         Date  Year    Locality  Estimated Value  Sale Price       Property  \\\n",
       "0  2009-01-02  2009   Waterbury         111440.0    185000.0  Single Family   \n",
       "1  2009-01-02  2009  Bridgeport         124670.0    150000.0     Two Family   \n",
       "2  2009-01-02  2009   Waterbury          55720.0    140000.0  Single Family   \n",
       "3  2009-01-02  2009  Bridgeport        4775276.0    272900.0  Single Family   \n",
       "4  2009-01-02  2009  Bridgeport         112351.0    210000.0              ?   \n",
       "\n",
       "      Residential  num_rooms  num_bathrooms  carpet_area  property_tax_rate  \\\n",
       "0  Detached House          3              3        996.0           1.025953   \n",
       "1          Duplex          4              3       1241.0           1.025953   \n",
       "2  Detached House          3              2        910.0           1.025953   \n",
       "3  Detached House          3              1        971.0           1.025953   \n",
       "4  Detached House          3              2       1092.0           1.025953   \n",
       "\n",
       "    Face  \n",
       "0  South  \n",
       "1  South  \n",
       "2  South  \n",
       "3   East  \n",
       "4   East  "
      ]
     },
     "execution_count": 25,
     "metadata": {},
     "output_type": "execute_result"
    }
   ],
   "source": [
    "df.head()"
   ]
  },
  {
   "cell_type": "markdown",
   "id": "32f977c7",
   "metadata": {},
   "source": [
    "How many unknown (\"?) values are present in the dataset? Remove/Delete unknown (\"?) values present in the dataset to make it null value.\n",
    "Remove/Delete - means it will show NAN in place of \"?\"\n",
    "Note: If there is no value present in the dataset it is represented as NAN(read pandas documentation for all the other ways to represent null values) in data\n"
   ]
  },
  {
   "cell_type": "code",
   "execution_count": 30,
   "id": "67d2e7dd",
   "metadata": {},
   "outputs": [],
   "source": [
    "unknown_count = (df == '?').sum().sum()\n",
    "\n",
    "df.replace('?', np.nan, inplace=True)\n"
   ]
  },
  {
   "cell_type": "code",
   "execution_count": 36,
   "id": "d6eceb64",
   "metadata": {},
   "outputs": [
    {
     "data": {
      "text/plain": [
       "1823"
      ]
     },
     "execution_count": 36,
     "metadata": {},
     "output_type": "execute_result"
    }
   ],
   "source": [
    "unknown_count"
   ]
  },
  {
   "cell_type": "markdown",
   "id": "d3bb17f0",
   "metadata": {},
   "source": [
    "What is the shape of the dataset ?"
   ]
  },
  {
   "cell_type": "code",
   "execution_count": 38,
   "id": "5812d7d9",
   "metadata": {},
   "outputs": [
    {
     "data": {
      "text/plain": [
       "(10000, 12)"
      ]
     },
     "execution_count": 38,
     "metadata": {},
     "output_type": "execute_result"
    }
   ],
   "source": [
    "df.shape"
   ]
  },
  {
   "cell_type": "markdown",
   "id": "3e10937f",
   "metadata": {},
   "source": [
    "What is the value present at the 692th indexed row and 0th indexed column in the data ?\n",
    "\n",
    "dataframe[692,0] (simpy saying this in a matrix)\n",
    "rows/ columns starts indexing from zero(0) in python"
   ]
  },
  {
   "cell_type": "code",
   "execution_count": 39,
   "id": "af877e3d",
   "metadata": {},
   "outputs": [
    {
     "data": {
      "text/plain": [
       "'2009-11-16'"
      ]
     },
     "execution_count": 39,
     "metadata": {},
     "output_type": "execute_result"
    }
   ],
   "source": [
    "df.iloc[692,0]"
   ]
  },
  {
   "cell_type": "markdown",
   "id": "e55c0b94",
   "metadata": {},
   "source": [
    "What is the value present at the 546th indexed row and 7th indexed column in the data ?\n",
    " dataframe[546,7] (simpy saying this in a matrix)\n",
    " rows/ columns starts indexing from zero(0) in python"
   ]
  },
  {
   "cell_type": "code",
   "execution_count": 17,
   "id": "48c2c423",
   "metadata": {},
   "outputs": [
    {
     "data": {
      "text/plain": [
       "3"
      ]
     },
     "execution_count": 17,
     "metadata": {},
     "output_type": "execute_result"
    }
   ],
   "source": [
    "df.iloc[546,7]"
   ]
  },
  {
   "cell_type": "markdown",
   "id": "0f0bc7f8",
   "metadata": {},
   "source": [
    "What are the unique values present in the Locality feature of the dataset?"
   ]
  },
  {
   "cell_type": "code",
   "execution_count": 18,
   "id": "97eebe3b",
   "metadata": {},
   "outputs": [
    {
     "data": {
      "text/plain": [
       "array(['Waterbury', 'Bridgeport', 'Greenwich', 'Norwalk', nan,\n",
       "       'Fairfield', 'West Hartford', 'Stamford'], dtype=object)"
      ]
     },
     "execution_count": 18,
     "metadata": {},
     "output_type": "execute_result"
    }
   ],
   "source": [
    "df['Locality'].unique()"
   ]
  },
  {
   "cell_type": "markdown",
   "id": "57ee362a",
   "metadata": {},
   "source": [
    "Which of the following feature has most missing(NaN) values present in the dataset?\n",
    " (Note: compute after removing \"?\") "
   ]
  },
  {
   "cell_type": "code",
   "execution_count": 41,
   "id": "c79f4680",
   "metadata": {},
   "outputs": [
    {
     "data": {
      "text/plain": [
       "['Locality', 'Estimated Value', 'Property', 'carpet_area']"
      ]
     },
     "execution_count": 41,
     "metadata": {},
     "output_type": "execute_result"
    }
   ],
   "source": [
    "# df.isna().sum()\n",
    "df.columns[df.isna().any()].tolist()\n"
   ]
  },
  {
   "cell_type": "code",
   "execution_count": 42,
   "id": "154a99dd",
   "metadata": {},
   "outputs": [
    {
     "name": "stdout",
     "output_type": "stream",
     "text": [
      "Column with the most NaN values: Property\n",
      "Number of NaN values in this column: 1823\n"
     ]
    }
   ],
   "source": [
    "max_null_column = df.isna().sum().idxmax()\n",
    "max_null_count = df.isna().sum().max()\n",
    "\n",
    "print(f\"Column with the most NaN values: {max_null_column}\")\n",
    "print(f\"Number of NaN values in this column: {max_null_count}\")"
   ]
  },
  {
   "cell_type": "markdown",
   "id": "056f7c04",
   "metadata": {},
   "source": [
    "Drop all the samples(rows) with missing values strictly greater than 2. How many samples remains after that ?\n",
    " (Note: compute after removing \"?\") \n"
   ]
  },
  {
   "cell_type": "code",
   "execution_count": 33,
   "id": "06f54470",
   "metadata": {},
   "outputs": [
    {
     "data": {
      "text/plain": [
       "(9917, 12)"
      ]
     },
     "execution_count": 33,
     "metadata": {},
     "output_type": "execute_result"
    }
   ],
   "source": [
    "df1 = df.dropna(thresh=df.shape[1] - 2)\n",
    "df1.shape"
   ]
  },
  {
   "cell_type": "markdown",
   "id": "a81422dd",
   "metadata": {},
   "source": [
    "Drop all the samples(rows) with missing values in the original dataframe. How many samples remains after that ?\n",
    " (Note: compute after removing \"?\") "
   ]
  },
  {
   "cell_type": "code",
   "execution_count": 34,
   "id": "db642bd8",
   "metadata": {},
   "outputs": [
    {
     "data": {
      "text/plain": [
       "(5449, 12)"
      ]
     },
     "execution_count": 34,
     "metadata": {},
     "output_type": "execute_result"
    }
   ],
   "source": [
    "df2 = df.dropna()\n",
    "df2.shape"
   ]
  },
  {
   "cell_type": "code",
   "execution_count": null,
   "id": "cf06fcf3",
   "metadata": {},
   "outputs": [],
   "source": []
  }
 ],
 "metadata": {
  "kernelspec": {
   "display_name": "base",
   "language": "python",
   "name": "python3"
  },
  "language_info": {
   "codemirror_mode": {
    "name": "ipython",
    "version": 3
   },
   "file_extension": ".py",
   "mimetype": "text/x-python",
   "name": "python",
   "nbconvert_exporter": "python",
   "pygments_lexer": "ipython3",
   "version": "3.11.7"
  }
 },
 "nbformat": 4,
 "nbformat_minor": 5
}
