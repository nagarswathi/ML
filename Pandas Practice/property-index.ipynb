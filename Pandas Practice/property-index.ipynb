{
 "cells": [
  {
   "cell_type": "code",
   "execution_count": 1,
   "id": "4a8ed5ae",
   "metadata": {},
   "outputs": [],
   "source": [
    "import pandas as pd\n",
    "import numpy as np"
   ]
  },
  {
   "cell_type": "code",
   "execution_count": 2,
   "id": "6dbd7ed8",
   "metadata": {},
   "outputs": [],
   "source": [
    "df = pd.read_csv(\"property.csv\")"
   ]
  },
  {
   "cell_type": "markdown",
   "id": "1789f7a1",
   "metadata": {},
   "source": [
    "\n",
    "Select all the even indexed rows from the given dataset. What is the value in the 3rd indexed column of the 0th indexed row in the selected dataframe. (row/ column indexed from zero(0) in python/pandas)"
   ]
  },
  {
   "cell_type": "code",
   "execution_count": 6,
   "id": "f19eb294",
   "metadata": {},
   "outputs": [
    {
     "data": {
      "text/plain": [
       "111440.0"
      ]
     },
     "execution_count": 6,
     "metadata": {},
     "output_type": "execute_result"
    }
   ],
   "source": [
    "df[df.index % 2 == 0].iloc[0, 3]"
   ]
  },
  {
   "cell_type": "markdown",
   "id": "b6727bb0",
   "metadata": {},
   "source": [
    "Select all the even indexed rows from the given dataset. What is the value in the 3rd indexed column of the 332th indexed row in the selected dataframe. (row/ column indexed from zero(0))"
   ]
  },
  {
   "cell_type": "code",
   "execution_count": 7,
   "id": "e1fe48c5",
   "metadata": {},
   "outputs": [
    {
     "data": {
      "text/plain": [
       "256200.0"
      ]
     },
     "execution_count": 7,
     "metadata": {},
     "output_type": "execute_result"
    }
   ],
   "source": [
    "df[df.index % 2 == 0].iloc[332, 3]"
   ]
  },
  {
   "cell_type": "markdown",
   "id": "ec7047ed",
   "metadata": {},
   "source": [
    "Select all the odd indexed rows from the given dataset. What is the value in the 3rd indexed column of the 332th indexed row in the selected dataframe. (row/ column indexed from zero(0))\n",
    " Please consider case sensitivity while giving your solution capital letter ≠ small letter\n",
    "  If it is a string don't write quotes in the solution."
   ]
  },
  {
   "cell_type": "code",
   "execution_count": 9,
   "id": "78e2e39f",
   "metadata": {},
   "outputs": [
    {
     "data": {
      "text/plain": [
       "352940.0"
      ]
     },
     "execution_count": 9,
     "metadata": {},
     "output_type": "execute_result"
    }
   ],
   "source": [
    "df[df.index % 2 == 1].iloc[332, 3]\n"
   ]
  },
  {
   "cell_type": "markdown",
   "id": "7e570523",
   "metadata": {},
   "source": [
    "Select all the odd indexed columns from the given dataset. What is the value in the 5th indexed column of the 100th indexed row in the selected dataframe. (row/ column indexed from zero(0))\n",
    "Please consider case sensitivity while giving your solution capital letter ≠ small letter\n",
    "If it is a string don't write quotes in the solution"
   ]
  },
  {
   "cell_type": "code",
   "execution_count": 14,
   "id": "1dd8d888",
   "metadata": {},
   "outputs": [
    {
     "data": {
      "text/plain": [
       "'West'"
      ]
     },
     "execution_count": 14,
     "metadata": {},
     "output_type": "execute_result"
    }
   ],
   "source": [
    "df.iloc[:, 1::2].iloc[100, 5]"
   ]
  },
  {
   "cell_type": "markdown",
   "id": "29341e20",
   "metadata": {},
   "source": [
    "Select all the even indexed columns and even indexed rows from the given dataset. What is the value in the 3th indexed column of the 255th indexed row in the selected dataframe. (row/ column indexed/starts from zero(0))\n",
    "Please consider case sensitivity while giving your solution capital letter ≠ small letter\n",
    "If it is a string don't write quotes in the solution."
   ]
  },
  {
   "cell_type": "code",
   "execution_count": 13,
   "id": "a04bed71",
   "metadata": {},
   "outputs": [
    {
     "data": {
      "text/plain": [
       "'Detached House'"
      ]
     },
     "execution_count": 13,
     "metadata": {},
     "output_type": "execute_result"
    }
   ],
   "source": [
    "df[df.index % 2 == 0].iloc[:, ::2].iloc[255, 3]\n"
   ]
  },
  {
   "cell_type": "markdown",
   "id": "1273eb67",
   "metadata": {},
   "source": [
    "Determine the number of samples (rows) in the dataset that belong to the six most recent years, based on the provided data."
   ]
  },
  {
   "cell_type": "code",
   "execution_count": 19,
   "id": "2fe58b06",
   "metadata": {},
   "outputs": [
    {
     "data": {
      "text/plain": [
       "(3242, 12)"
      ]
     },
     "execution_count": 19,
     "metadata": {},
     "output_type": "execute_result"
    }
   ],
   "source": [
    "df[df['Year']>=2025-6].shape"
   ]
  },
  {
   "cell_type": "markdown",
   "id": "820fd942",
   "metadata": {},
   "source": [
    "Determine the number of samples (rows) in the dataset which has num_rooms = 3 and num_bathrooms = 3"
   ]
  },
  {
   "cell_type": "markdown",
   "id": "7d7dbc6f",
   "metadata": {},
   "source": [
    "Determine the number of samples (rows) in the dataset which has num_rooms = 3 or num_bathrooms = 3\n"
   ]
  },
  {
   "cell_type": "code",
   "execution_count": 21,
   "id": "92bb6f23",
   "metadata": {},
   "outputs": [
    {
     "data": {
      "text/plain": [
       "(2730, 12)"
      ]
     },
     "execution_count": 21,
     "metadata": {},
     "output_type": "execute_result"
    }
   ],
   "source": [
    "df[(df['num_rooms']==3)& (df['num_bathrooms']==3)].shape"
   ]
  },
  {
   "cell_type": "code",
   "execution_count": 22,
   "id": "30254a42",
   "metadata": {},
   "outputs": [
    {
     "data": {
      "text/plain": [
       "(8591, 12)"
      ]
     },
     "execution_count": 22,
     "metadata": {},
     "output_type": "execute_result"
    }
   ],
   "source": [
    "df[(df['num_rooms']==3) | (df['num_bathrooms']==3)].shape"
   ]
  },
  {
   "cell_type": "markdown",
   "id": "14282402",
   "metadata": {},
   "source": [
    "\n",
    "In the Year 2022, how many houses (rows) located in the Greenwich Locality have exactly num_room == 3, and facing towards either the North or East?"
   ]
  },
  {
   "cell_type": "code",
   "execution_count": 25,
   "id": "a1fe2682",
   "metadata": {},
   "outputs": [
    {
     "data": {
      "text/plain": [
       "(487, 12)"
      ]
     },
     "execution_count": 25,
     "metadata": {},
     "output_type": "execute_result"
    }
   ],
   "source": [
    "df[(df['Locality']=='Greenwich')& (df['num_rooms']==3)& df['Face'].isin(['East','North'])].shape"
   ]
  },
  {
   "cell_type": "markdown",
   "id": "2020a1b6",
   "metadata": {},
   "source": [
    "Calculate the number of samples(rows) that correspond to the month of August across all the years.?"
   ]
  },
  {
   "cell_type": "code",
   "execution_count": 26,
   "id": "c387dc43",
   "metadata": {},
   "outputs": [
    {
     "data": {
      "text/html": [
       "<div>\n",
       "<style scoped>\n",
       "    .dataframe tbody tr th:only-of-type {\n",
       "        vertical-align: middle;\n",
       "    }\n",
       "\n",
       "    .dataframe tbody tr th {\n",
       "        vertical-align: top;\n",
       "    }\n",
       "\n",
       "    .dataframe thead th {\n",
       "        text-align: right;\n",
       "    }\n",
       "</style>\n",
       "<table border=\"1\" class=\"dataframe\">\n",
       "  <thead>\n",
       "    <tr style=\"text-align: right;\">\n",
       "      <th></th>\n",
       "      <th>Date</th>\n",
       "      <th>Year</th>\n",
       "      <th>Locality</th>\n",
       "      <th>Estimated Value</th>\n",
       "      <th>Sale Price</th>\n",
       "      <th>Property</th>\n",
       "      <th>Residential</th>\n",
       "      <th>num_rooms</th>\n",
       "      <th>num_bathrooms</th>\n",
       "      <th>carpet_area</th>\n",
       "      <th>property_tax_rate</th>\n",
       "      <th>Face</th>\n",
       "    </tr>\n",
       "  </thead>\n",
       "  <tbody>\n",
       "    <tr>\n",
       "      <th>0</th>\n",
       "      <td>2009-01-02</td>\n",
       "      <td>2009</td>\n",
       "      <td>Waterbury</td>\n",
       "      <td>111440.0</td>\n",
       "      <td>185000.0</td>\n",
       "      <td>Single Family</td>\n",
       "      <td>Detached House</td>\n",
       "      <td>3</td>\n",
       "      <td>3</td>\n",
       "      <td>996.0</td>\n",
       "      <td>1.025953</td>\n",
       "      <td>South</td>\n",
       "    </tr>\n",
       "    <tr>\n",
       "      <th>1</th>\n",
       "      <td>2009-01-02</td>\n",
       "      <td>2009</td>\n",
       "      <td>Bridgeport</td>\n",
       "      <td>124670.0</td>\n",
       "      <td>150000.0</td>\n",
       "      <td>Two Family</td>\n",
       "      <td>Duplex</td>\n",
       "      <td>4</td>\n",
       "      <td>3</td>\n",
       "      <td>1241.0</td>\n",
       "      <td>1.025953</td>\n",
       "      <td>South</td>\n",
       "    </tr>\n",
       "    <tr>\n",
       "      <th>2</th>\n",
       "      <td>2009-01-02</td>\n",
       "      <td>2009</td>\n",
       "      <td>Waterbury</td>\n",
       "      <td>55720.0</td>\n",
       "      <td>140000.0</td>\n",
       "      <td>Single Family</td>\n",
       "      <td>Detached House</td>\n",
       "      <td>3</td>\n",
       "      <td>2</td>\n",
       "      <td>910.0</td>\n",
       "      <td>1.025953</td>\n",
       "      <td>South</td>\n",
       "    </tr>\n",
       "    <tr>\n",
       "      <th>3</th>\n",
       "      <td>2009-01-02</td>\n",
       "      <td>2009</td>\n",
       "      <td>Bridgeport</td>\n",
       "      <td>4775276.0</td>\n",
       "      <td>272900.0</td>\n",
       "      <td>Single Family</td>\n",
       "      <td>Detached House</td>\n",
       "      <td>3</td>\n",
       "      <td>1</td>\n",
       "      <td>971.0</td>\n",
       "      <td>1.025953</td>\n",
       "      <td>East</td>\n",
       "    </tr>\n",
       "    <tr>\n",
       "      <th>4</th>\n",
       "      <td>2009-01-02</td>\n",
       "      <td>2009</td>\n",
       "      <td>Bridgeport</td>\n",
       "      <td>112351.0</td>\n",
       "      <td>210000.0</td>\n",
       "      <td>?</td>\n",
       "      <td>Detached House</td>\n",
       "      <td>3</td>\n",
       "      <td>2</td>\n",
       "      <td>1092.0</td>\n",
       "      <td>1.025953</td>\n",
       "      <td>East</td>\n",
       "    </tr>\n",
       "  </tbody>\n",
       "</table>\n",
       "</div>"
      ],
      "text/plain": [
       "         Date  Year    Locality  Estimated Value  Sale Price       Property  \\\n",
       "0  2009-01-02  2009   Waterbury         111440.0    185000.0  Single Family   \n",
       "1  2009-01-02  2009  Bridgeport         124670.0    150000.0     Two Family   \n",
       "2  2009-01-02  2009   Waterbury          55720.0    140000.0  Single Family   \n",
       "3  2009-01-02  2009  Bridgeport        4775276.0    272900.0  Single Family   \n",
       "4  2009-01-02  2009  Bridgeport         112351.0    210000.0              ?   \n",
       "\n",
       "      Residential  num_rooms  num_bathrooms  carpet_area  property_tax_rate  \\\n",
       "0  Detached House          3              3        996.0           1.025953   \n",
       "1          Duplex          4              3       1241.0           1.025953   \n",
       "2  Detached House          3              2        910.0           1.025953   \n",
       "3  Detached House          3              1        971.0           1.025953   \n",
       "4  Detached House          3              2       1092.0           1.025953   \n",
       "\n",
       "    Face  \n",
       "0  South  \n",
       "1  South  \n",
       "2  South  \n",
       "3   East  \n",
       "4   East  "
      ]
     },
     "execution_count": 26,
     "metadata": {},
     "output_type": "execute_result"
    }
   ],
   "source": [
    "df.head()"
   ]
  },
  {
   "cell_type": "code",
   "execution_count": 28,
   "id": "477dc40c",
   "metadata": {},
   "outputs": [],
   "source": [
    "df['Date'] = pd.to_datetime(df['Date'])\n"
   ]
  },
  {
   "cell_type": "code",
   "execution_count": 30,
   "id": "a5d25ce1",
   "metadata": {},
   "outputs": [
    {
     "data": {
      "text/plain": [
       "(1050, 12)"
      ]
     },
     "execution_count": 30,
     "metadata": {},
     "output_type": "execute_result"
    }
   ],
   "source": [
    "df[df['Date'].dt.month == 8].shape"
   ]
  },
  {
   "cell_type": "markdown",
   "id": "ba37bc14",
   "metadata": {},
   "source": [
    "According to the data which Locality have highest average Sale Price"
   ]
  },
  {
   "cell_type": "code",
   "execution_count": 32,
   "id": "466f5493",
   "metadata": {},
   "outputs": [
    {
     "data": {
      "text/plain": [
       "'Greenwich'"
      ]
     },
     "execution_count": 32,
     "metadata": {},
     "output_type": "execute_result"
    }
   ],
   "source": [
    "df.groupby(by = 'Locality')['Sale Price'].mean().idxmax()"
   ]
  },
  {
   "cell_type": "code",
   "execution_count": null,
   "id": "5986d432",
   "metadata": {},
   "outputs": [],
   "source": []
  }
 ],
 "metadata": {
  "kernelspec": {
   "display_name": "base",
   "language": "python",
   "name": "python3"
  },
  "language_info": {
   "codemirror_mode": {
    "name": "ipython",
    "version": 3
   },
   "file_extension": ".py",
   "mimetype": "text/x-python",
   "name": "python",
   "nbconvert_exporter": "python",
   "pygments_lexer": "ipython3",
   "version": "3.11.7"
  }
 },
 "nbformat": 4,
 "nbformat_minor": 5
}
