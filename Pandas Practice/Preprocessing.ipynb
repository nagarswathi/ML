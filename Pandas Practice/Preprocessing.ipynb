{
 "cells": [
  {
   "cell_type": "code",
   "execution_count": 3,
   "id": "c4d2c73b",
   "metadata": {},
   "outputs": [],
   "source": [
    "import pandas as pd"
   ]
  },
  {
   "cell_type": "markdown",
   "id": "30942613",
   "metadata": {},
   "source": [
    "\n",
    "Shape of the dataset is (9450,13) [Note if you are not getting this shape that means your data has not been uploaded correctly to the collab \n",
    "The target feature in the dataset is the 'Price' column. \n",
    "Random state should be taken as 42 wherever applicable. \n",
    "ignore all the warnings while executing the codes.\n",
    "\n",
    "\n",
    "\n",
    "MetaData\n",
    "Airline:The name of the airline \n",
    " Source: The source from which the service begins \n",
    " Destination: The destination where the service ends \n",
    " Route: Route the flight took. \n",
    " Dep_Time: The time when the journey starts from the source. \n",
    " Arrival_Time: Time of arrival at the destination. \n",
    " Duration: Total duration of the flight. \n",
    " Total_Stops: Total stops between the source and destination. \n",
    " Additional_Info: Additional information about the flight \n",
    " Price: The price of the ticket ▶▶▶ Target \n",
    " Month: Month of journey. \n",
    " WeekDay: Day at which journey started. \n",
    " Day: Date of the start of journey."
   ]
  },
  {
   "cell_type": "code",
   "execution_count": 4,
   "id": "50d9f3d9",
   "metadata": {},
   "outputs": [],
   "source": [
    "df = pd.read_csv(\"Preprocessing.csv\")"
   ]
  },
  {
   "cell_type": "code",
   "execution_count": 5,
   "id": "4b5b481c",
   "metadata": {},
   "outputs": [
    {
     "data": {
      "text/plain": [
       "(9450, 13)"
      ]
     },
     "execution_count": 5,
     "metadata": {},
     "output_type": "execute_result"
    }
   ],
   "source": [
    "df.shape"
   ]
  },
  {
   "cell_type": "code",
   "execution_count": 6,
   "id": "2a13cbe8",
   "metadata": {},
   "outputs": [
    {
     "data": {
      "text/plain": [
       "Index(['Airline', 'Source', 'Destination', 'Route', 'Dep_Time', 'Arrival_Time',\n",
       "       'Duration', 'Total_Stops', 'Additional_Info', 'Price', 'Month',\n",
       "       'WeekDay', 'Day'],\n",
       "      dtype='object')"
      ]
     },
     "execution_count": 6,
     "metadata": {},
     "output_type": "execute_result"
    }
   ],
   "source": [
    "df.columns"
   ]
  },
  {
   "cell_type": "markdown",
   "id": "4f586e40",
   "metadata": {},
   "source": [
    "What is the average of the flight ticket price? Write your answer correct to two decimal places.\n"
   ]
  },
  {
   "cell_type": "code",
   "execution_count": 7,
   "id": "a98fe05e",
   "metadata": {},
   "outputs": [
    {
     "data": {
      "text/plain": [
       "9027.895555555555"
      ]
     },
     "execution_count": 7,
     "metadata": {},
     "output_type": "execute_result"
    }
   ],
   "source": [
    "df[\"Price\"].mean()"
   ]
  },
  {
   "cell_type": "markdown",
   "id": "74562b6a",
   "metadata": {},
   "source": [
    "During which month did the highest number of flights occur? Months are represented by numerical codes, with January corresponding to 1, February to 2, and so forth."
   ]
  },
  {
   "cell_type": "code",
   "execution_count": 9,
   "id": "d49d789a",
   "metadata": {},
   "outputs": [
    {
     "data": {
      "text/plain": [
       "5"
      ]
     },
     "execution_count": 9,
     "metadata": {},
     "output_type": "execute_result"
    }
   ],
   "source": [
    "df['Month'].value_counts().idxmax()"
   ]
  },
  {
   "cell_type": "markdown",
   "id": "7893bf4c",
   "metadata": {},
   "source": [
    "Is the average price of flight tickets higher on weekends (Saturday and Sunday) or on weekdays (Remaining 5 days)?"
   ]
  },
  {
   "cell_type": "code",
   "execution_count": 11,
   "id": "73ff7ad4",
   "metadata": {},
   "outputs": [],
   "source": [
    "df[\"weekend_flag\"] = df['WeekDay'].apply(lambda x: 1 if x in ['Sunday', 'Saturday'] else 0)"
   ]
  },
  {
   "cell_type": "code",
   "execution_count": 12,
   "id": "02278d9e",
   "metadata": {},
   "outputs": [
    {
     "data": {
      "text/plain": [
       "1"
      ]
     },
     "execution_count": 12,
     "metadata": {},
     "output_type": "execute_result"
    }
   ],
   "source": [
    "df.groupby(by = \"weekend_flag\")['Price'].mean().idxmax()"
   ]
  },
  {
   "cell_type": "markdown",
   "id": "7ba31fd1",
   "metadata": {},
   "source": [
    "Two of the entries in the 'Additional_Info' column are 'No info' and 'No Info'. Replace all occurrences of 'No Info' with 'No info'. How many flights fall under airline 'IndiGo' and have 'No info' as additional information?"
   ]
  },
  {
   "cell_type": "code",
   "execution_count": 13,
   "id": "971cdc92",
   "metadata": {},
   "outputs": [
    {
     "data": {
      "text/plain": [
       "Additional_Info\n",
       "No info                         7375\n",
       "In-flight meal not included     1750\n",
       "No check-in baggage included     298\n",
       "1 Long layover                    13\n",
       "Change airports                    5\n",
       "No Info                            3\n",
       "2 Long layover                     3\n",
       "1 Short layover                    2\n",
       "Business class                     1\n",
       "Name: count, dtype: int64"
      ]
     },
     "execution_count": 13,
     "metadata": {},
     "output_type": "execute_result"
    }
   ],
   "source": [
    "df['Additional_Info'].value_counts()"
   ]
  },
  {
   "cell_type": "code",
   "execution_count": 14,
   "id": "38f29b88",
   "metadata": {},
   "outputs": [],
   "source": [
    "df['Additional_Info'] = df['Additional_Info'].replace('No Info', 'No info')"
   ]
  },
  {
   "cell_type": "code",
   "execution_count": 15,
   "id": "7daa019e",
   "metadata": {},
   "outputs": [
    {
     "data": {
      "text/plain": [
       "(1650, 14)"
      ]
     },
     "execution_count": 15,
     "metadata": {},
     "output_type": "execute_result"
    }
   ],
   "source": [
    "filtered_df = df[(df['Airline'] == 'IndiGo') & (df['Additional_Info'] == 'No info')]\n",
    "filtered_df.shape"
   ]
  },
  {
   "cell_type": "markdown",
   "id": "30f16986",
   "metadata": {},
   "source": [
    "Convert the values of 'Duration' into seconds. Enter the average duration (in seconds) of a flight. Enter your answer correct to two decimal places."
   ]
  },
  {
   "cell_type": "code",
   "execution_count": 33,
   "id": "e3b6b650",
   "metadata": {},
   "outputs": [
    {
     "data": {
      "text/plain": [
       "38957.93650793651"
      ]
     },
     "execution_count": 33,
     "metadata": {},
     "output_type": "execute_result"
    }
   ],
   "source": [
    "def duration_to_seconds(duration):\n",
    "    hours = 0\n",
    "    minutes = 0\n",
    "    parts = duration.strip().split()\n",
    "    \n",
    "    for part in parts:\n",
    "        if 'h' in part:\n",
    "            hours = int(part.replace('h', ''))\n",
    "        elif 'm' in part:\n",
    "            minutes = int(part.replace('m', ''))\n",
    "    \n",
    "    return hours * 3600 + minutes * 60\n",
    "df['Duration'].apply(duration_to_seconds).mean()"
   ]
  },
  {
   "cell_type": "code",
   "execution_count": null,
   "id": "a1bd6597",
   "metadata": {},
   "outputs": [],
   "source": []
  }
 ],
 "metadata": {
  "kernelspec": {
   "display_name": "base",
   "language": "python",
   "name": "python3"
  },
  "language_info": {
   "codemirror_mode": {
    "name": "ipython",
    "version": 3
   },
   "file_extension": ".py",
   "mimetype": "text/x-python",
   "name": "python",
   "nbconvert_exporter": "python",
   "pygments_lexer": "ipython3",
   "version": "3.11.7"
  }
 },
 "nbformat": 4,
 "nbformat_minor": 5
}
